{
 "cells": [
  {
   "cell_type": "markdown",
   "id": "271ecf7f",
   "metadata": {},
   "source": [
    "# Programming Assignment 5\n",
    "\n",
    "***Joey Gladys***\n",
    "\n",
    "***Fall 2021***\n",
    "\n",
    "***Version 1.0***"
   ]
  },
  {
   "cell_type": "markdown",
   "id": "7de96455",
   "metadata": {},
   "source": [
    "## a. "
   ]
  },
  {
   "cell_type": "code",
   "execution_count": 13,
   "id": "21b1ae67",
   "metadata": {},
   "outputs": [
    {
     "name": "stdout",
     "output_type": "stream",
     "text": [
      "Enter a word to translate from English to Irish (enter 0 to stop):couch\n",
      "The Irish word for couch is not in this dictionary.\n",
      "Enter a word to translate from English to Irish (enter 0 to stop):chair\n",
      "The Irish word for chair is CATHAOIR.\n",
      "Enter a word to translate from English to Irish (enter 0 to stop):cat\n",
      "The Irish word for cat is not in this dictionary.\n",
      "Enter a word to translate from English to Irish (enter 0 to stop):dog\n",
      "The Irish word for dog is not in this dictionary.\n",
      "Enter a word to translate from English to Irish (enter 0 to stop):0\n"
     ]
    }
   ],
   "source": [
    "wtranslate=dict()\n",
    "\n",
    "wtranslate['couch']='not in this dictionary.'\n",
    "wtranslate['chair']='CATHAOIR.'\n",
    "wtranslate['cat']='not in this dictionary.'\n",
    "wtranslate['dog']='not in this dictionary.'\n",
    "    \n",
    "word = \"\"\n",
    "while word != \"0\":\n",
    "    word = input(\"Enter a word to translate from English to Irish (enter 0 to stop):\")\n",
    "    check = True\n",
    "    for english, irish in wtranslate.items():\n",
    "        if check == True:\n",
    "            if word in wtranslate:\n",
    "                check = False\n",
    "                print(f'The Irish word for {word} is {wtranslate.get(word)}')\n",
    "            else:\n",
    "                check = False\n",
    "                if word != \"0\":\n",
    "                    print(f'The Irish word for {word} is not in this dictionary.')"
   ]
  },
  {
   "cell_type": "markdown",
   "id": "ad1bd75c",
   "metadata": {},
   "source": [
    "## b. "
   ]
  },
  {
   "cell_type": "code",
   "execution_count": 31,
   "id": "25b01da2",
   "metadata": {},
   "outputs": [
    {
     "ename": "SyntaxError",
     "evalue": "EOL while scanning string literal (<ipython-input-31-c9b87031fbc8>, line 7)",
     "output_type": "error",
     "traceback": [
      "\u001b[0;36m  File \u001b[0;32m\"<ipython-input-31-c9b87031fbc8>\"\u001b[0;36m, line \u001b[0;32m7\u001b[0m\n\u001b[0;31m    'list': [{'date': '2021-09-01,\u001b[0m\n\u001b[0m                                  ^\u001b[0m\n\u001b[0;31mSyntaxError\u001b[0m\u001b[0;31m:\u001b[0m EOL while scanning string literal\n"
     ]
    }
   ],
   "source": [
    "fahrenheit = float(input(\"Enter temperature in fahrenheit: \"))\n",
    "celsius = (fahrenheit - 32) * 5/9\n",
    "print('%.2f Fahrenheit is: %0.2f Celsius' %(fahrenheit, celsius))\n",
    "\n",
    "\n",
    "data = {'city': Louisville,\n",
    "'list': [{'date': '2021-09-01,\n",
    "        'weather': {'temp': ,\n",
    "                   \n",
    "# I'm not sure where to find the weather dictionary for temperature data in September in Louisville\n",
    "            "
   ]
  },
  {
   "cell_type": "markdown",
   "id": "a82ee5b6",
   "metadata": {},
   "source": [
    "## c. "
   ]
  },
  {
   "cell_type": "code",
   "execution_count": 20,
   "id": "6a4141ed",
   "metadata": {},
   "outputs": [
    {
     "name": "stdout",
     "output_type": "stream",
     "text": [
      "{'b', 'a', 'e'}\n",
      "{'b', 'a', 'e'}\n",
      "{'d', 'c', 'b', 'a'}\n",
      "{'d', 'e', 'c'}\n"
     ]
    }
   ],
   "source": [
    "# symmetric difference(^) returns the symmetric difference of two sets\n",
    "\n",
    "A = {'a', 'b', 'c', 'd'}\n",
    "B = {'c', 'd', 'e' }\n",
    "C = {}\n",
    "\n",
    "print(A.symmetric_difference(B))\n",
    "print(B.symmetric_difference(A))\n",
    "\n",
    "print(A.symmetric_difference(C))\n",
    "print(B.symmetric_difference(C))"
   ]
  },
  {
   "cell_type": "code",
   "execution_count": 18,
   "id": "78f57268",
   "metadata": {},
   "outputs": [
    {
     "name": "stdout",
     "output_type": "stream",
     "text": [
      "Are A and B disjoint? True\n",
      "Are A and C disjoint? False\n"
     ]
    }
   ],
   "source": [
    "# .isdisjoint() returns True if two sets are disjoint sets. If not, it returns False.\n",
    "\n",
    "A = {1, 2, 3, 4}\n",
    "B = {5, 6, 7}\n",
    "C = {4, 5, 6}\n",
    "\n",
    "print('Are A and B disjoint?', A.isdisjoint(B))\n",
    "print('Are A and C disjoint?', A.isdisjoint(C))"
   ]
  },
  {
   "cell_type": "code",
   "execution_count": 19,
   "id": "6bad864f",
   "metadata": {},
   "outputs": [
    {
     "name": "stdout",
     "output_type": "stream",
     "text": [
      "{'apple'}\n"
     ]
    }
   ],
   "source": [
    "# intersection_update(&=) method removes the items that is not present in both sets.\n",
    "\n",
    "x = {\"apple\", \"banana\", \"cherry\"}\n",
    "y = {\"google\", \"microsoft\", \"apple\"}\n",
    "\n",
    "x.intersection_update(y) \n",
    "\n",
    "print(x)"
   ]
  },
  {
   "cell_type": "code",
   "execution_count": 22,
   "id": "0a6efc59",
   "metadata": {},
   "outputs": [
    {
     "name": "stdout",
     "output_type": "stream",
     "text": [
      "{'b', 'a', 'e'}\n",
      "{'b', 'a', 'e'}\n",
      "set()\n",
      "set()\n"
     ]
    }
   ],
   "source": [
    "# symmetric_difference(^=) returns the symmetric difference of two sets.\n",
    "\n",
    "A = {'a', 'b', 'c', 'd'}\n",
    "B = {'c', 'd', 'e' }\n",
    "\n",
    "print(A ^ B)\n",
    "print(B ^ A)\n",
    "\n",
    "print(A ^ A)\n",
    "print(B ^ B)"
   ]
  },
  {
   "cell_type": "code",
   "execution_count": 24,
   "id": "c6ca0f1e",
   "metadata": {},
   "outputs": [
    {
     "name": "stdout",
     "output_type": "stream",
     "text": [
      "Updated animals list:  ['cat', 'dog', 'guinea pig']\n"
     ]
    }
   ],
   "source": [
    "# remove() method removes the first matching element (which is passed as an argument) from the list.\n",
    "\n",
    "animals = ['cat', 'dog', 'rabbit', 'guinea pig']\n",
    "animals.remove('rabbit')\n",
    "print('Updated animals list: ', animals)"
   ]
  },
  {
   "cell_type": "code",
   "execution_count": 25,
   "id": "85bb6557",
   "metadata": {},
   "outputs": [
    {
     "name": "stdout",
     "output_type": "stream",
     "text": [
      "{'apple', 'cherry'}\n"
     ]
    }
   ],
   "source": [
    "# discard() method removes the specified item from the set.\n",
    "\n",
    "fruits = {\"apple\", \"banana\", \"cherry\"}\n",
    "fruits.discard(\"banana\")\n",
    "print(fruits)"
   ]
  },
  {
   "cell_type": "code",
   "execution_count": 26,
   "id": "c71d4158",
   "metadata": {},
   "outputs": [
    {
     "name": "stdout",
     "output_type": "stream",
     "text": [
      "Return Value: French\n",
      "Updated List: ['Python', 'Java', 'C++', 'C']\n"
     ]
    }
   ],
   "source": [
    "# pop() method removes the item at the given index from the list and returns the removed item.\n",
    "\n",
    "languages = ['Python', 'Java', 'C++', 'French', 'C']\n",
    "return_value = languages.pop(3)\n",
    "print('Return Value:', return_value)\n",
    "print('Updated List:', languages)"
   ]
  }
 ],
 "metadata": {
  "kernelspec": {
   "display_name": "Python 3",
   "language": "python",
   "name": "python3"
  },
  "language_info": {
   "codemirror_mode": {
    "name": "ipython",
    "version": 3
   },
   "file_extension": ".py",
   "mimetype": "text/x-python",
   "name": "python",
   "nbconvert_exporter": "python",
   "pygments_lexer": "ipython3",
   "version": "3.8.8"
  }
 },
 "nbformat": 4,
 "nbformat_minor": 5
}
